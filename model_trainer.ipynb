{
 "cells": [
  {
   "cell_type": "code",
   "execution_count": 1,
   "metadata": {},
   "outputs": [],
   "source": [
    "import pandas as pd\n",
    "import numpy as np\n",
    "from sklearn.model_selection import train_test_split\n",
    "from tqdm import tqdm\n",
    "import preprocess"
   ]
  },
  {
   "cell_type": "markdown",
   "metadata": {},
   "source": [
    "## download 된 데이터로 DataFrame 생성 "
   ]
  },
  {
   "cell_type": "code",
   "execution_count": 2,
   "metadata": {},
   "outputs": [],
   "source": [
    "df = preprocess.makeDataFrameFromDataSet(1.5*(10**6))\n",
    "df_test = df[10**6:]\n",
    "df = df[:10**6]\n",
    "df = preprocess.makeTimeFeature(df)\n",
    "df_test = preprocess.makeTimeFeature(df_test)"
   ]
  },
  {
   "cell_type": "markdown",
   "metadata": {},
   "source": [
    "## Data Preprocess - 범주형 데이터 결측값 처리"
   ]
  },
  {
   "cell_type": "code",
   "execution_count": 3,
   "metadata": {},
   "outputs": [],
   "source": [
    "ohe_columns = preprocess.ohe_columns\n",
    "save_mode = pd.DataFrame(columns=['max_value','total','max_index'])\n",
    "\n",
    "for ohe_column in ohe_columns :\n",
    "    modeResult = preprocess.getMode(df[ohe_column])\n",
    "    save_mode.loc[ohe_column] = modeResult\n",
    "    if modeResult[0]/modeResult[1] >= 0.5 :\n",
    "        df[ohe_column] = df[ohe_column].map(lambda x : modeResult[2] if x==str(-1) else x)\n",
    "\n",
    "##서버에서 사용하기 위해 저장\n",
    "save_mode.to_csv(\"./save_mode.csv\",header=True,index=True)"
   ]
  },
  {
   "cell_type": "markdown",
   "metadata": {},
   "source": [
    "## Croess Term 피쳐 생성"
   ]
  },
  {
   "cell_type": "code",
   "execution_count": 4,
   "metadata": {},
   "outputs": [
    {
     "output_type": "execute_result",
     "data": {
      "text/plain": [
       "       Sale  SalesAmountInEuro time_delay_for_conversion  click_timestamp  \\\n",
       "0         0              -1.00                        -1       1598891820   \n",
       "1         0              -1.00                        -1       1598925284   \n",
       "2         0              -1.00                        -1       1598892568   \n",
       "3         0              -1.00                        -1       1598891174   \n",
       "4         0              -1.00                        -1       1598905245   \n",
       "...     ...                ...                       ...              ...   \n",
       "999995    1              55.52                      1689       1597179878   \n",
       "999996    0              -1.00                        -1       1597203004   \n",
       "999997    1             102.00                       692       1597205953   \n",
       "999998    0              -1.00                        -1       1597164316   \n",
       "999999    0              -1.00                        -1       1597201490   \n",
       "\n",
       "       nb_clicks_1week  product_price                 product_age_group  \\\n",
       "0                   -1           0.00  4C90FD52FC53D2C1C205844CB69575AB   \n",
       "1                    0           0.00  4C90FD52FC53D2C1C205844CB69575AB   \n",
       "2                   -1           0.00  4C90FD52FC53D2C1C205844CB69575AB   \n",
       "3                   -1           0.00  4C90FD52FC53D2C1C205844CB69575AB   \n",
       "4                   -1           0.00  4C90FD52FC53D2C1C205844CB69575AB   \n",
       "...                ...            ...                               ...   \n",
       "999995             114          27.51  4C90FD52FC53D2C1C205844CB69575AB   \n",
       "999996              -1           0.00  4C90FD52FC53D2C1C205844CB69575AB   \n",
       "999997              -1         100.00  4C90FD52FC53D2C1C205844CB69575AB   \n",
       "999998              -1           0.00  4C90FD52FC53D2C1C205844CB69575AB   \n",
       "999999              55           0.00  4C90FD52FC53D2C1C205844CB69575AB   \n",
       "\n",
       "                             device_type                       audience_id  \\\n",
       "0       7E56C27BFF0305E788DA55A029EC4988                                -1   \n",
       "1       D7D1FB49049702BF6338894757E0D959                                -1   \n",
       "2       7E56C27BFF0305E788DA55A029EC4988                                -1   \n",
       "3       D7D1FB49049702BF6338894757E0D959  B0E6BD3ACC0707BAB31CA2C2B08E652F   \n",
       "4       7E56C27BFF0305E788DA55A029EC4988                                -1   \n",
       "...                                  ...                               ...   \n",
       "999995  7E56C27BFF0305E788DA55A029EC4988                                -1   \n",
       "999996  7E56C27BFF0305E788DA55A029EC4988                                -1   \n",
       "999997  7E56C27BFF0305E788DA55A029EC4988                                -1   \n",
       "999998  D7D1FB49049702BF6338894757E0D959  951795EB43464C86FB534742A58D99FB   \n",
       "999999  7E56C27BFF0305E788DA55A029EC4988  ACEBB1033A0E853C11470868111DCD10   \n",
       "\n",
       "                          product_gender  ... weekday  year month day hour  \\\n",
       "0                                     -1  ...       1  2020    09  01   01   \n",
       "1       1B491180398E2F0390E6A588B3BCE291  ...       1  2020    09  01   10   \n",
       "2                                     -1  ...       1  2020    09  01   01   \n",
       "3                                     -1  ...       1  2020    09  01   01   \n",
       "4                                     -1  ...       1  2020    09  01   05   \n",
       "...                                  ...  ...     ...   ...   ...  ..  ...   \n",
       "999995                                -1  ...       2  2020    08  12   06   \n",
       "999996                                -1  ...       2  2020    08  12   12   \n",
       "999997                                -1  ...       2  2020    08  12   13   \n",
       "999998                                -1  ...       2  2020    08  12   01   \n",
       "999999                                -1  ...       2  2020    08  12   12   \n",
       "\n",
       "       minute second                 product_country_hour  \\\n",
       "0          37     00  57A1D462A03BD076E029CF9310C11FC5_01   \n",
       "1          54     44  57A1D462A03BD076E029CF9310C11FC5_10   \n",
       "2          49     28                                -1_01   \n",
       "3          26     14                                -1_01   \n",
       "4          20     45  57A1D462A03BD076E029CF9310C11FC5_05   \n",
       "...       ...    ...                                  ...   \n",
       "999995     04     38  57A1D462A03BD076E029CF9310C11FC5_06   \n",
       "999996     30     04  57A1D462A03BD076E029CF9310C11FC5_12   \n",
       "999997     19     13  57A1D462A03BD076E029CF9310C11FC5_13   \n",
       "999998     45     16  57A1D462A03BD076E029CF9310C11FC5_01   \n",
       "999999     04     50  57A1D462A03BD076E029CF9310C11FC5_12   \n",
       "\n",
       "                   product_country_weekday  \\\n",
       "0       57A1D462A03BD076E029CF9310C11FC5_1   \n",
       "1       57A1D462A03BD076E029CF9310C11FC5_1   \n",
       "2                                     -1_1   \n",
       "3                                     -1_1   \n",
       "4       57A1D462A03BD076E029CF9310C11FC5_1   \n",
       "...                                    ...   \n",
       "999995  57A1D462A03BD076E029CF9310C11FC5_2   \n",
       "999996  57A1D462A03BD076E029CF9310C11FC5_2   \n",
       "999997  57A1D462A03BD076E029CF9310C11FC5_2   \n",
       "999998  57A1D462A03BD076E029CF9310C11FC5_2   \n",
       "999999  57A1D462A03BD076E029CF9310C11FC5_2   \n",
       "\n",
       "                               device_type_product_gender  \n",
       "0                     7E56C27BFF0305E788DA55A029EC4988_-1  \n",
       "1       D7D1FB49049702BF6338894757E0D959_1B491180398E2...  \n",
       "2                     7E56C27BFF0305E788DA55A029EC4988_-1  \n",
       "3                     D7D1FB49049702BF6338894757E0D959_-1  \n",
       "4                     7E56C27BFF0305E788DA55A029EC4988_-1  \n",
       "...                                                   ...  \n",
       "999995                7E56C27BFF0305E788DA55A029EC4988_-1  \n",
       "999996                7E56C27BFF0305E788DA55A029EC4988_-1  \n",
       "999997                7E56C27BFF0305E788DA55A029EC4988_-1  \n",
       "999998                D7D1FB49049702BF6338894757E0D959_-1  \n",
       "999999                7E56C27BFF0305E788DA55A029EC4988_-1  \n",
       "\n",
       "[1000000 rows x 34 columns]"
      ],
      "text/html": "<div>\n<style scoped>\n    .dataframe tbody tr th:only-of-type {\n        vertical-align: middle;\n    }\n\n    .dataframe tbody tr th {\n        vertical-align: top;\n    }\n\n    .dataframe thead th {\n        text-align: right;\n    }\n</style>\n<table border=\"1\" class=\"dataframe\">\n  <thead>\n    <tr style=\"text-align: right;\">\n      <th></th>\n      <th>Sale</th>\n      <th>SalesAmountInEuro</th>\n      <th>time_delay_for_conversion</th>\n      <th>click_timestamp</th>\n      <th>nb_clicks_1week</th>\n      <th>product_price</th>\n      <th>product_age_group</th>\n      <th>device_type</th>\n      <th>audience_id</th>\n      <th>product_gender</th>\n      <th>...</th>\n      <th>weekday</th>\n      <th>year</th>\n      <th>month</th>\n      <th>day</th>\n      <th>hour</th>\n      <th>minute</th>\n      <th>second</th>\n      <th>product_country_hour</th>\n      <th>product_country_weekday</th>\n      <th>device_type_product_gender</th>\n    </tr>\n  </thead>\n  <tbody>\n    <tr>\n      <th>0</th>\n      <td>0</td>\n      <td>-1.00</td>\n      <td>-1</td>\n      <td>1598891820</td>\n      <td>-1</td>\n      <td>0.00</td>\n      <td>4C90FD52FC53D2C1C205844CB69575AB</td>\n      <td>7E56C27BFF0305E788DA55A029EC4988</td>\n      <td>-1</td>\n      <td>-1</td>\n      <td>...</td>\n      <td>1</td>\n      <td>2020</td>\n      <td>09</td>\n      <td>01</td>\n      <td>01</td>\n      <td>37</td>\n      <td>00</td>\n      <td>57A1D462A03BD076E029CF9310C11FC5_01</td>\n      <td>57A1D462A03BD076E029CF9310C11FC5_1</td>\n      <td>7E56C27BFF0305E788DA55A029EC4988_-1</td>\n    </tr>\n    <tr>\n      <th>1</th>\n      <td>0</td>\n      <td>-1.00</td>\n      <td>-1</td>\n      <td>1598925284</td>\n      <td>0</td>\n      <td>0.00</td>\n      <td>4C90FD52FC53D2C1C205844CB69575AB</td>\n      <td>D7D1FB49049702BF6338894757E0D959</td>\n      <td>-1</td>\n      <td>1B491180398E2F0390E6A588B3BCE291</td>\n      <td>...</td>\n      <td>1</td>\n      <td>2020</td>\n      <td>09</td>\n      <td>01</td>\n      <td>10</td>\n      <td>54</td>\n      <td>44</td>\n      <td>57A1D462A03BD076E029CF9310C11FC5_10</td>\n      <td>57A1D462A03BD076E029CF9310C11FC5_1</td>\n      <td>D7D1FB49049702BF6338894757E0D959_1B491180398E2...</td>\n    </tr>\n    <tr>\n      <th>2</th>\n      <td>0</td>\n      <td>-1.00</td>\n      <td>-1</td>\n      <td>1598892568</td>\n      <td>-1</td>\n      <td>0.00</td>\n      <td>4C90FD52FC53D2C1C205844CB69575AB</td>\n      <td>7E56C27BFF0305E788DA55A029EC4988</td>\n      <td>-1</td>\n      <td>-1</td>\n      <td>...</td>\n      <td>1</td>\n      <td>2020</td>\n      <td>09</td>\n      <td>01</td>\n      <td>01</td>\n      <td>49</td>\n      <td>28</td>\n      <td>-1_01</td>\n      <td>-1_1</td>\n      <td>7E56C27BFF0305E788DA55A029EC4988_-1</td>\n    </tr>\n    <tr>\n      <th>3</th>\n      <td>0</td>\n      <td>-1.00</td>\n      <td>-1</td>\n      <td>1598891174</td>\n      <td>-1</td>\n      <td>0.00</td>\n      <td>4C90FD52FC53D2C1C205844CB69575AB</td>\n      <td>D7D1FB49049702BF6338894757E0D959</td>\n      <td>B0E6BD3ACC0707BAB31CA2C2B08E652F</td>\n      <td>-1</td>\n      <td>...</td>\n      <td>1</td>\n      <td>2020</td>\n      <td>09</td>\n      <td>01</td>\n      <td>01</td>\n      <td>26</td>\n      <td>14</td>\n      <td>-1_01</td>\n      <td>-1_1</td>\n      <td>D7D1FB49049702BF6338894757E0D959_-1</td>\n    </tr>\n    <tr>\n      <th>4</th>\n      <td>0</td>\n      <td>-1.00</td>\n      <td>-1</td>\n      <td>1598905245</td>\n      <td>-1</td>\n      <td>0.00</td>\n      <td>4C90FD52FC53D2C1C205844CB69575AB</td>\n      <td>7E56C27BFF0305E788DA55A029EC4988</td>\n      <td>-1</td>\n      <td>-1</td>\n      <td>...</td>\n      <td>1</td>\n      <td>2020</td>\n      <td>09</td>\n      <td>01</td>\n      <td>05</td>\n      <td>20</td>\n      <td>45</td>\n      <td>57A1D462A03BD076E029CF9310C11FC5_05</td>\n      <td>57A1D462A03BD076E029CF9310C11FC5_1</td>\n      <td>7E56C27BFF0305E788DA55A029EC4988_-1</td>\n    </tr>\n    <tr>\n      <th>...</th>\n      <td>...</td>\n      <td>...</td>\n      <td>...</td>\n      <td>...</td>\n      <td>...</td>\n      <td>...</td>\n      <td>...</td>\n      <td>...</td>\n      <td>...</td>\n      <td>...</td>\n      <td>...</td>\n      <td>...</td>\n      <td>...</td>\n      <td>...</td>\n      <td>...</td>\n      <td>...</td>\n      <td>...</td>\n      <td>...</td>\n      <td>...</td>\n      <td>...</td>\n      <td>...</td>\n    </tr>\n    <tr>\n      <th>999995</th>\n      <td>1</td>\n      <td>55.52</td>\n      <td>1689</td>\n      <td>1597179878</td>\n      <td>114</td>\n      <td>27.51</td>\n      <td>4C90FD52FC53D2C1C205844CB69575AB</td>\n      <td>7E56C27BFF0305E788DA55A029EC4988</td>\n      <td>-1</td>\n      <td>-1</td>\n      <td>...</td>\n      <td>2</td>\n      <td>2020</td>\n      <td>08</td>\n      <td>12</td>\n      <td>06</td>\n      <td>04</td>\n      <td>38</td>\n      <td>57A1D462A03BD076E029CF9310C11FC5_06</td>\n      <td>57A1D462A03BD076E029CF9310C11FC5_2</td>\n      <td>7E56C27BFF0305E788DA55A029EC4988_-1</td>\n    </tr>\n    <tr>\n      <th>999996</th>\n      <td>0</td>\n      <td>-1.00</td>\n      <td>-1</td>\n      <td>1597203004</td>\n      <td>-1</td>\n      <td>0.00</td>\n      <td>4C90FD52FC53D2C1C205844CB69575AB</td>\n      <td>7E56C27BFF0305E788DA55A029EC4988</td>\n      <td>-1</td>\n      <td>-1</td>\n      <td>...</td>\n      <td>2</td>\n      <td>2020</td>\n      <td>08</td>\n      <td>12</td>\n      <td>12</td>\n      <td>30</td>\n      <td>04</td>\n      <td>57A1D462A03BD076E029CF9310C11FC5_12</td>\n      <td>57A1D462A03BD076E029CF9310C11FC5_2</td>\n      <td>7E56C27BFF0305E788DA55A029EC4988_-1</td>\n    </tr>\n    <tr>\n      <th>999997</th>\n      <td>1</td>\n      <td>102.00</td>\n      <td>692</td>\n      <td>1597205953</td>\n      <td>-1</td>\n      <td>100.00</td>\n      <td>4C90FD52FC53D2C1C205844CB69575AB</td>\n      <td>7E56C27BFF0305E788DA55A029EC4988</td>\n      <td>-1</td>\n      <td>-1</td>\n      <td>...</td>\n      <td>2</td>\n      <td>2020</td>\n      <td>08</td>\n      <td>12</td>\n      <td>13</td>\n      <td>19</td>\n      <td>13</td>\n      <td>57A1D462A03BD076E029CF9310C11FC5_13</td>\n      <td>57A1D462A03BD076E029CF9310C11FC5_2</td>\n      <td>7E56C27BFF0305E788DA55A029EC4988_-1</td>\n    </tr>\n    <tr>\n      <th>999998</th>\n      <td>0</td>\n      <td>-1.00</td>\n      <td>-1</td>\n      <td>1597164316</td>\n      <td>-1</td>\n      <td>0.00</td>\n      <td>4C90FD52FC53D2C1C205844CB69575AB</td>\n      <td>D7D1FB49049702BF6338894757E0D959</td>\n      <td>951795EB43464C86FB534742A58D99FB</td>\n      <td>-1</td>\n      <td>...</td>\n      <td>2</td>\n      <td>2020</td>\n      <td>08</td>\n      <td>12</td>\n      <td>01</td>\n      <td>45</td>\n      <td>16</td>\n      <td>57A1D462A03BD076E029CF9310C11FC5_01</td>\n      <td>57A1D462A03BD076E029CF9310C11FC5_2</td>\n      <td>D7D1FB49049702BF6338894757E0D959_-1</td>\n    </tr>\n    <tr>\n      <th>999999</th>\n      <td>0</td>\n      <td>-1.00</td>\n      <td>-1</td>\n      <td>1597201490</td>\n      <td>55</td>\n      <td>0.00</td>\n      <td>4C90FD52FC53D2C1C205844CB69575AB</td>\n      <td>7E56C27BFF0305E788DA55A029EC4988</td>\n      <td>ACEBB1033A0E853C11470868111DCD10</td>\n      <td>-1</td>\n      <td>...</td>\n      <td>2</td>\n      <td>2020</td>\n      <td>08</td>\n      <td>12</td>\n      <td>12</td>\n      <td>04</td>\n      <td>50</td>\n      <td>57A1D462A03BD076E029CF9310C11FC5_12</td>\n      <td>57A1D462A03BD076E029CF9310C11FC5_2</td>\n      <td>7E56C27BFF0305E788DA55A029EC4988_-1</td>\n    </tr>\n  </tbody>\n</table>\n<p>1000000 rows × 34 columns</p>\n</div>"
     },
     "metadata": {},
     "execution_count": 4
    }
   ],
   "source": [
    "preprocess.makeCrossTermFeature(df,'product_country','hour')\n",
    "preprocess.makeCrossTermFeature(df,'product_country','weekday')\n",
    "preprocess.makeCrossTermFeature(df,'device_type','product_gender')"
   ]
  },
  {
   "cell_type": "markdown",
   "metadata": {},
   "source": [
    "## DataPreprocess - One Hot Encoding"
   ]
  },
  {
   "cell_type": "code",
   "execution_count": 5,
   "metadata": {},
   "outputs": [],
   "source": [
    "## 범주형 데이터 one hot encoding\n",
    "df_preprocess = pd.DataFrame()\n",
    "\n",
    "df_preprocess = preprocess.ohe(df,df_preprocess,use_saved_columns=False)\n",
    "\n",
    "# 서버에서 사용하기 위해 칼럼들 저장\n",
    "df_ohe_columns = pd.DataFrame(list(df_preprocess.columns))\n",
    "df_ohe_columns.to_csv('saved_ohe_columns.csv',header=None)"
   ]
  },
  {
   "cell_type": "markdown",
   "metadata": {},
   "source": [
    "## 정수형 데이터 결측값 처리"
   ]
  },
  {
   "cell_type": "code",
   "execution_count": 6,
   "metadata": {},
   "outputs": [],
   "source": [
    "## 정수형 데이터 결측값 평균으로 처리\n",
    "import preprocess\n",
    "import pandas as pd\n",
    "\n",
    "integer_columns = preprocess.integer_columns\n",
    "\n",
    "for integer_column in integer_columns :\n",
    "    df_preprocess = pd.concat([df['nb_clicks_1week'],df_preprocess],axis=1)\n",
    "\n",
    "#nb_clicks_1week 의 -1 값을 모두 평균으로 대체\n",
    "for integer_column in integer_columns :\n",
    "    df_preprocess[integer_column][df_preprocess[integer_column]==-1] = df_preprocess[integer_column].mean()\n",
    "\n",
    "#서버에서 사용하기 위해 저장\n",
    "preprocess.save_value_by_csv('mean',df[integer_column].mean(),'df')"
   ]
  },
  {
   "cell_type": "markdown",
   "metadata": {},
   "source": [
    "## Data Preprocess- std Normalization"
   ]
  },
  {
   "cell_type": "code",
   "execution_count": 7,
   "metadata": {},
   "outputs": [],
   "source": [
    "# 서버에서 사용하기 위해 저장\n",
    "preprocess.save_value_by_csv('mean',df_preprocess[integer_column].mean(),'df_preprocess')\n",
    "preprocess.save_value_by_csv('std',df_preprocess[integer_column].std(),'df_preprocess')"
   ]
  },
  {
   "cell_type": "code",
   "execution_count": 8,
   "metadata": {},
   "outputs": [
    {
     "output_type": "stream",
     "name": "stdout",
     "text": [
      "['nb_clicks_1week']\n"
     ]
    },
    {
     "output_type": "execute_result",
     "data": {
      "text/plain": [
       "        nb_clicks_1week  device_type_0C297EB7365042A7DCB803298164359F  \\\n",
       "0              0.010744                                             0   \n",
       "1              0.000000                                             0   \n",
       "2              0.010744                                             0   \n",
       "3              0.010744                                             0   \n",
       "4              0.010744                                             0   \n",
       "...                 ...                                           ...   \n",
       "999995         0.005786                                             0   \n",
       "999996         0.010744                                             0   \n",
       "999997         0.010744                                             0   \n",
       "999998         0.010744                                             0   \n",
       "999999         0.002791                                             0   \n",
       "\n",
       "        device_type_1D2373C2A02F5A307C1F0C697ECF8429  \\\n",
       "0                                                  0   \n",
       "1                                                  0   \n",
       "2                                                  0   \n",
       "3                                                  0   \n",
       "4                                                  0   \n",
       "...                                              ...   \n",
       "999995                                             0   \n",
       "999996                                             0   \n",
       "999997                                             0   \n",
       "999998                                             0   \n",
       "999999                                             0   \n",
       "\n",
       "        device_type_7E56C27BFF0305E788DA55A029EC4988  \\\n",
       "0                                                  1   \n",
       "1                                                  0   \n",
       "2                                                  1   \n",
       "3                                                  0   \n",
       "4                                                  1   \n",
       "...                                              ...   \n",
       "999995                                             1   \n",
       "999996                                             1   \n",
       "999997                                             1   \n",
       "999998                                             0   \n",
       "999999                                             1   \n",
       "\n",
       "        device_type_B432A885981287B47E08B41E802860B2  \\\n",
       "0                                                  0   \n",
       "1                                                  0   \n",
       "2                                                  0   \n",
       "3                                                  0   \n",
       "4                                                  0   \n",
       "...                                              ...   \n",
       "999995                                             0   \n",
       "999996                                             0   \n",
       "999997                                             0   \n",
       "999998                                             0   \n",
       "999999                                             0   \n",
       "\n",
       "        device_type_D7D1FB49049702BF6338894757E0D959  \\\n",
       "0                                                  0   \n",
       "1                                                  1   \n",
       "2                                                  0   \n",
       "3                                                  1   \n",
       "4                                                  0   \n",
       "...                                              ...   \n",
       "999995                                             0   \n",
       "999996                                             0   \n",
       "999997                                             0   \n",
       "999998                                             1   \n",
       "999999                                             0   \n",
       "\n",
       "        device_type_FF2C446555E3822B0E0FC3406116E86D  product_gender_-1  \\\n",
       "0                                                  0                  1   \n",
       "1                                                  0                  0   \n",
       "2                                                  0                  1   \n",
       "3                                                  0                  1   \n",
       "4                                                  0                  1   \n",
       "...                                              ...                ...   \n",
       "999995                                             0                  1   \n",
       "999996                                             0                  1   \n",
       "999997                                             0                  1   \n",
       "999998                                             0                  1   \n",
       "999999                                             0                  1   \n",
       "\n",
       "        product_gender_0FB06F1EAC1E00A436B336C5DF3C14AF  \\\n",
       "0                                                     0   \n",
       "1                                                     0   \n",
       "2                                                     0   \n",
       "3                                                     0   \n",
       "4                                                     0   \n",
       "...                                                 ...   \n",
       "999995                                                0   \n",
       "999996                                                0   \n",
       "999997                                                0   \n",
       "999998                                                0   \n",
       "999999                                                0   \n",
       "\n",
       "        product_gender_1B491180398E2F0390E6A588B3BCE291  ...  \\\n",
       "0                                                     0  ...   \n",
       "1                                                     1  ...   \n",
       "2                                                     0  ...   \n",
       "3                                                     0  ...   \n",
       "4                                                     0  ...   \n",
       "...                                                 ...  ...   \n",
       "999995                                                0  ...   \n",
       "999996                                                0  ...   \n",
       "999997                                                0  ...   \n",
       "999998                                                0  ...   \n",
       "999999                                                0  ...   \n",
       "\n",
       "        device_type_product_gender_FF2C446555E3822B0E0FC3406116E86D_1B491180398E2F0390E6A588B3BCE291  \\\n",
       "0                                                       0                                              \n",
       "1                                                       0                                              \n",
       "2                                                       0                                              \n",
       "3                                                       0                                              \n",
       "4                                                       0                                              \n",
       "...                                                   ...                                              \n",
       "999995                                                  0                                              \n",
       "999996                                                  0                                              \n",
       "999997                                                  0                                              \n",
       "999998                                                  0                                              \n",
       "999999                                                  0                                              \n",
       "\n",
       "        device_type_product_gender_FF2C446555E3822B0E0FC3406116E86D_26FE89E9DD2E6FC18AA5BE1F6D5A6870  \\\n",
       "0                                                       0                                              \n",
       "1                                                       0                                              \n",
       "2                                                       0                                              \n",
       "3                                                       0                                              \n",
       "4                                                       0                                              \n",
       "...                                                   ...                                              \n",
       "999995                                                  0                                              \n",
       "999996                                                  0                                              \n",
       "999997                                                  0                                              \n",
       "999998                                                  0                                              \n",
       "999999                                                  0                                              \n",
       "\n",
       "        device_type_product_gender_FF2C446555E3822B0E0FC3406116E86D_3B3F1EFC68D245B766D311E45CD6B955  \\\n",
       "0                                                       0                                              \n",
       "1                                                       0                                              \n",
       "2                                                       0                                              \n",
       "3                                                       0                                              \n",
       "4                                                       0                                              \n",
       "...                                                   ...                                              \n",
       "999995                                                  0                                              \n",
       "999996                                                  0                                              \n",
       "999997                                                  0                                              \n",
       "999998                                                  0                                              \n",
       "999999                                                  0                                              \n",
       "\n",
       "        device_type_product_gender_FF2C446555E3822B0E0FC3406116E86D_6EFABCEDA36A931DBF760F88970BAF0E  \\\n",
       "0                                                       0                                              \n",
       "1                                                       0                                              \n",
       "2                                                       0                                              \n",
       "3                                                       0                                              \n",
       "4                                                       0                                              \n",
       "...                                                   ...                                              \n",
       "999995                                                  0                                              \n",
       "999996                                                  0                                              \n",
       "999997                                                  0                                              \n",
       "999998                                                  0                                              \n",
       "999999                                                  0                                              \n",
       "\n",
       "        device_type_product_gender_FF2C446555E3822B0E0FC3406116E86D_86E2AFBF909EC95B069893FF0BBC5B26  \\\n",
       "0                                                       0                                              \n",
       "1                                                       0                                              \n",
       "2                                                       0                                              \n",
       "3                                                       0                                              \n",
       "4                                                       0                                              \n",
       "...                                                   ...                                              \n",
       "999995                                                  0                                              \n",
       "999996                                                  0                                              \n",
       "999997                                                  0                                              \n",
       "999998                                                  0                                              \n",
       "999999                                                  0                                              \n",
       "\n",
       "        device_type_product_gender_FF2C446555E3822B0E0FC3406116E86D_8CE4C5DDEE22BB8EE50CF418ED81591C  \\\n",
       "0                                                       0                                              \n",
       "1                                                       0                                              \n",
       "2                                                       0                                              \n",
       "3                                                       0                                              \n",
       "4                                                       0                                              \n",
       "...                                                   ...                                              \n",
       "999995                                                  0                                              \n",
       "999996                                                  0                                              \n",
       "999997                                                  0                                              \n",
       "999998                                                  0                                              \n",
       "999999                                                  0                                              \n",
       "\n",
       "        device_type_product_gender_FF2C446555E3822B0E0FC3406116E86D_A5D15FC386510762EC0DDFF54ABE6F94  \\\n",
       "0                                                       0                                              \n",
       "1                                                       0                                              \n",
       "2                                                       0                                              \n",
       "3                                                       0                                              \n",
       "4                                                       0                                              \n",
       "...                                                   ...                                              \n",
       "999995                                                  0                                              \n",
       "999996                                                  0                                              \n",
       "999997                                                  0                                              \n",
       "999998                                                  0                                              \n",
       "999999                                                  0                                              \n",
       "\n",
       "        device_type_product_gender_FF2C446555E3822B0E0FC3406116E86D_C45A9AC6D102ACAEEDF0D6F78636D84A  \\\n",
       "0                                                       0                                              \n",
       "1                                                       0                                              \n",
       "2                                                       0                                              \n",
       "3                                                       0                                              \n",
       "4                                                       0                                              \n",
       "...                                                   ...                                              \n",
       "999995                                                  0                                              \n",
       "999996                                                  0                                              \n",
       "999997                                                  0                                              \n",
       "999998                                                  0                                              \n",
       "999999                                                  0                                              \n",
       "\n",
       "        device_type_product_gender_FF2C446555E3822B0E0FC3406116E86D_C83584C67375245584CEBF5DCE5BEE2D  \\\n",
       "0                                                       0                                              \n",
       "1                                                       0                                              \n",
       "2                                                       0                                              \n",
       "3                                                       0                                              \n",
       "4                                                       0                                              \n",
       "...                                                   ...                                              \n",
       "999995                                                  0                                              \n",
       "999996                                                  0                                              \n",
       "999997                                                  0                                              \n",
       "999998                                                  0                                              \n",
       "999999                                                  0                                              \n",
       "\n",
       "        device_type_product_gender_FF2C446555E3822B0E0FC3406116E86D_D7B42B0C4D807EF1C13F79948743E9DA  \n",
       "0                                                       0                                             \n",
       "1                                                       0                                             \n",
       "2                                                       0                                             \n",
       "3                                                       0                                             \n",
       "4                                                       0                                             \n",
       "...                                                   ...                                             \n",
       "999995                                                  0                                             \n",
       "999996                                                  0                                             \n",
       "999997                                                  0                                             \n",
       "999998                                                  0                                             \n",
       "999999                                                  0                                             \n",
       "\n",
       "[1000000 rows x 674 columns]"
      ],
      "text/html": "<div>\n<style scoped>\n    .dataframe tbody tr th:only-of-type {\n        vertical-align: middle;\n    }\n\n    .dataframe tbody tr th {\n        vertical-align: top;\n    }\n\n    .dataframe thead th {\n        text-align: right;\n    }\n</style>\n<table border=\"1\" class=\"dataframe\">\n  <thead>\n    <tr style=\"text-align: right;\">\n      <th></th>\n      <th>nb_clicks_1week</th>\n      <th>device_type_0C297EB7365042A7DCB803298164359F</th>\n      <th>device_type_1D2373C2A02F5A307C1F0C697ECF8429</th>\n      <th>device_type_7E56C27BFF0305E788DA55A029EC4988</th>\n      <th>device_type_B432A885981287B47E08B41E802860B2</th>\n      <th>device_type_D7D1FB49049702BF6338894757E0D959</th>\n      <th>device_type_FF2C446555E3822B0E0FC3406116E86D</th>\n      <th>product_gender_-1</th>\n      <th>product_gender_0FB06F1EAC1E00A436B336C5DF3C14AF</th>\n      <th>product_gender_1B491180398E2F0390E6A588B3BCE291</th>\n      <th>...</th>\n      <th>device_type_product_gender_FF2C446555E3822B0E0FC3406116E86D_1B491180398E2F0390E6A588B3BCE291</th>\n      <th>device_type_product_gender_FF2C446555E3822B0E0FC3406116E86D_26FE89E9DD2E6FC18AA5BE1F6D5A6870</th>\n      <th>device_type_product_gender_FF2C446555E3822B0E0FC3406116E86D_3B3F1EFC68D245B766D311E45CD6B955</th>\n      <th>device_type_product_gender_FF2C446555E3822B0E0FC3406116E86D_6EFABCEDA36A931DBF760F88970BAF0E</th>\n      <th>device_type_product_gender_FF2C446555E3822B0E0FC3406116E86D_86E2AFBF909EC95B069893FF0BBC5B26</th>\n      <th>device_type_product_gender_FF2C446555E3822B0E0FC3406116E86D_8CE4C5DDEE22BB8EE50CF418ED81591C</th>\n      <th>device_type_product_gender_FF2C446555E3822B0E0FC3406116E86D_A5D15FC386510762EC0DDFF54ABE6F94</th>\n      <th>device_type_product_gender_FF2C446555E3822B0E0FC3406116E86D_C45A9AC6D102ACAEEDF0D6F78636D84A</th>\n      <th>device_type_product_gender_FF2C446555E3822B0E0FC3406116E86D_C83584C67375245584CEBF5DCE5BEE2D</th>\n      <th>device_type_product_gender_FF2C446555E3822B0E0FC3406116E86D_D7B42B0C4D807EF1C13F79948743E9DA</th>\n    </tr>\n  </thead>\n  <tbody>\n    <tr>\n      <th>0</th>\n      <td>0.010744</td>\n      <td>0</td>\n      <td>0</td>\n      <td>1</td>\n      <td>0</td>\n      <td>0</td>\n      <td>0</td>\n      <td>1</td>\n      <td>0</td>\n      <td>0</td>\n      <td>...</td>\n      <td>0</td>\n      <td>0</td>\n      <td>0</td>\n      <td>0</td>\n      <td>0</td>\n      <td>0</td>\n      <td>0</td>\n      <td>0</td>\n      <td>0</td>\n      <td>0</td>\n    </tr>\n    <tr>\n      <th>1</th>\n      <td>0.000000</td>\n      <td>0</td>\n      <td>0</td>\n      <td>0</td>\n      <td>0</td>\n      <td>1</td>\n      <td>0</td>\n      <td>0</td>\n      <td>0</td>\n      <td>1</td>\n      <td>...</td>\n      <td>0</td>\n      <td>0</td>\n      <td>0</td>\n      <td>0</td>\n      <td>0</td>\n      <td>0</td>\n      <td>0</td>\n      <td>0</td>\n      <td>0</td>\n      <td>0</td>\n    </tr>\n    <tr>\n      <th>2</th>\n      <td>0.010744</td>\n      <td>0</td>\n      <td>0</td>\n      <td>1</td>\n      <td>0</td>\n      <td>0</td>\n      <td>0</td>\n      <td>1</td>\n      <td>0</td>\n      <td>0</td>\n      <td>...</td>\n      <td>0</td>\n      <td>0</td>\n      <td>0</td>\n      <td>0</td>\n      <td>0</td>\n      <td>0</td>\n      <td>0</td>\n      <td>0</td>\n      <td>0</td>\n      <td>0</td>\n    </tr>\n    <tr>\n      <th>3</th>\n      <td>0.010744</td>\n      <td>0</td>\n      <td>0</td>\n      <td>0</td>\n      <td>0</td>\n      <td>1</td>\n      <td>0</td>\n      <td>1</td>\n      <td>0</td>\n      <td>0</td>\n      <td>...</td>\n      <td>0</td>\n      <td>0</td>\n      <td>0</td>\n      <td>0</td>\n      <td>0</td>\n      <td>0</td>\n      <td>0</td>\n      <td>0</td>\n      <td>0</td>\n      <td>0</td>\n    </tr>\n    <tr>\n      <th>4</th>\n      <td>0.010744</td>\n      <td>0</td>\n      <td>0</td>\n      <td>1</td>\n      <td>0</td>\n      <td>0</td>\n      <td>0</td>\n      <td>1</td>\n      <td>0</td>\n      <td>0</td>\n      <td>...</td>\n      <td>0</td>\n      <td>0</td>\n      <td>0</td>\n      <td>0</td>\n      <td>0</td>\n      <td>0</td>\n      <td>0</td>\n      <td>0</td>\n      <td>0</td>\n      <td>0</td>\n    </tr>\n    <tr>\n      <th>...</th>\n      <td>...</td>\n      <td>...</td>\n      <td>...</td>\n      <td>...</td>\n      <td>...</td>\n      <td>...</td>\n      <td>...</td>\n      <td>...</td>\n      <td>...</td>\n      <td>...</td>\n      <td>...</td>\n      <td>...</td>\n      <td>...</td>\n      <td>...</td>\n      <td>...</td>\n      <td>...</td>\n      <td>...</td>\n      <td>...</td>\n      <td>...</td>\n      <td>...</td>\n      <td>...</td>\n    </tr>\n    <tr>\n      <th>999995</th>\n      <td>0.005786</td>\n      <td>0</td>\n      <td>0</td>\n      <td>1</td>\n      <td>0</td>\n      <td>0</td>\n      <td>0</td>\n      <td>1</td>\n      <td>0</td>\n      <td>0</td>\n      <td>...</td>\n      <td>0</td>\n      <td>0</td>\n      <td>0</td>\n      <td>0</td>\n      <td>0</td>\n      <td>0</td>\n      <td>0</td>\n      <td>0</td>\n      <td>0</td>\n      <td>0</td>\n    </tr>\n    <tr>\n      <th>999996</th>\n      <td>0.010744</td>\n      <td>0</td>\n      <td>0</td>\n      <td>1</td>\n      <td>0</td>\n      <td>0</td>\n      <td>0</td>\n      <td>1</td>\n      <td>0</td>\n      <td>0</td>\n      <td>...</td>\n      <td>0</td>\n      <td>0</td>\n      <td>0</td>\n      <td>0</td>\n      <td>0</td>\n      <td>0</td>\n      <td>0</td>\n      <td>0</td>\n      <td>0</td>\n      <td>0</td>\n    </tr>\n    <tr>\n      <th>999997</th>\n      <td>0.010744</td>\n      <td>0</td>\n      <td>0</td>\n      <td>1</td>\n      <td>0</td>\n      <td>0</td>\n      <td>0</td>\n      <td>1</td>\n      <td>0</td>\n      <td>0</td>\n      <td>...</td>\n      <td>0</td>\n      <td>0</td>\n      <td>0</td>\n      <td>0</td>\n      <td>0</td>\n      <td>0</td>\n      <td>0</td>\n      <td>0</td>\n      <td>0</td>\n      <td>0</td>\n    </tr>\n    <tr>\n      <th>999998</th>\n      <td>0.010744</td>\n      <td>0</td>\n      <td>0</td>\n      <td>0</td>\n      <td>0</td>\n      <td>1</td>\n      <td>0</td>\n      <td>1</td>\n      <td>0</td>\n      <td>0</td>\n      <td>...</td>\n      <td>0</td>\n      <td>0</td>\n      <td>0</td>\n      <td>0</td>\n      <td>0</td>\n      <td>0</td>\n      <td>0</td>\n      <td>0</td>\n      <td>0</td>\n      <td>0</td>\n    </tr>\n    <tr>\n      <th>999999</th>\n      <td>0.002791</td>\n      <td>0</td>\n      <td>0</td>\n      <td>1</td>\n      <td>0</td>\n      <td>0</td>\n      <td>0</td>\n      <td>1</td>\n      <td>0</td>\n      <td>0</td>\n      <td>...</td>\n      <td>0</td>\n      <td>0</td>\n      <td>0</td>\n      <td>0</td>\n      <td>0</td>\n      <td>0</td>\n      <td>0</td>\n      <td>0</td>\n      <td>0</td>\n      <td>0</td>\n    </tr>\n  </tbody>\n</table>\n<p>1000000 rows × 674 columns</p>\n</div>"
     },
     "metadata": {},
     "execution_count": 8
    }
   ],
   "source": [
    "from sklearn.preprocessing import MinMaxScaler\n",
    "from sklearn.preprocessing import StandardScaler\n",
    "\n",
    "integer_columns = preprocess.integer_columns\n",
    "print(integer_columns)\n",
    "\n",
    "# standard Normalization\n",
    "preprocess.scale(df_preprocess,StandardScaler())\n",
    "\n",
    "# 서버에서 사용하기 위해 저장\n",
    "preprocess.save_value_by_csv('min',df_preprocess[integer_column].min(),'df_preprocess')\n",
    "preprocess.save_value_by_csv('max',df_preprocess[integer_column].max(),'df_preprocess')\n",
    "\n",
    "# minmax Normalization\n",
    "preprocess.scale(df_preprocess,MinMaxScaler())"
   ]
  },
  {
   "cell_type": "markdown",
   "metadata": {},
   "source": [
    "## Tensorflow를 이용하여 모델 생성"
   ]
  },
  {
   "cell_type": "code",
   "execution_count": 9,
   "metadata": {},
   "outputs": [],
   "source": [
    "l1_reg=preprocess.l1_reg"
   ]
  },
  {
   "cell_type": "code",
   "execution_count": 10,
   "metadata": {},
   "outputs": [],
   "source": [
    "X = df_preprocess\n",
    "Y = df['Sale'].astype(float)"
   ]
  },
  {
   "cell_type": "code",
   "execution_count": 11,
   "metadata": {},
   "outputs": [],
   "source": [
    "import tensorflow as tf\n",
    "from tensorflow.keras import layers"
   ]
  },
  {
   "cell_type": "code",
   "execution_count": 12,
   "metadata": {},
   "outputs": [
    {
     "output_type": "stream",
     "name": "stdout",
     "text": [
      "Epoch 1/5\n",
      "10000/10000 [==============================] - 7s 686us/step - loss: 0.3624 - auc: 0.6254\n",
      "Epoch 2/5\n",
      "10000/10000 [==============================] - 7s 674us/step - loss: 0.3350 - auc: 0.6628\n",
      "Epoch 3/5\n",
      "10000/10000 [==============================] - 7s 671us/step - loss: 0.3339 - auc: 0.6625\n",
      "Epoch 4/5\n",
      "10000/10000 [==============================] - 7s 666us/step - loss: 0.3341 - auc: 0.6613\n",
      "Epoch 5/5\n",
      "10000/10000 [==============================] - 7s 668us/step - loss: 0.3326 - auc: 0.6642\n"
     ]
    },
    {
     "output_type": "execute_result",
     "data": {
      "text/plain": [
       "<tensorflow.python.keras.callbacks.History at 0x7fa6bdd2c5d0>"
      ]
     },
     "metadata": {},
     "execution_count": 12
    }
   ],
   "source": [
    "model = tf.keras.Sequential(name=\"my_sequential\")\n",
    "model.add(layers.Dense(1, activation=\"sigmoid\",kernel_regularizer=l1_reg))\n",
    "model.compile(optimizer=\"Adam\", loss=\"binary_crossentropy\", metrics=[\"AUC\"])\n",
    "model.fit(X,Y,batch_size=100,epochs=5)"
   ]
  },
  {
   "cell_type": "markdown",
   "metadata": {},
   "source": [
    "## 학습 성능 평가 및 결과값 저장"
   ]
  },
  {
   "cell_type": "code",
   "execution_count": 13,
   "metadata": {},
   "outputs": [],
   "source": [
    "cvr_result = model.predict(df_preprocess)\n",
    "filePath = 'train_result.txt'\n",
    "\n",
    "preprocess.result_to_txt_file(df['Sale'],cvr_result,filePath)"
   ]
  },
  {
   "cell_type": "code",
   "execution_count": 14,
   "metadata": {},
   "outputs": [
    {
     "output_type": "stream",
     "name": "stdout",
     "text": [
      "10000/10000 [==============================] - 7s 648us/step - loss: 0.3337 - auc: 0.6648\n"
     ]
    },
    {
     "output_type": "execute_result",
     "data": {
      "text/plain": [
       "[0.33368244767189026, 0.6647629737854004]"
      ]
     },
     "metadata": {},
     "execution_count": 14
    }
   ],
   "source": [
    "model.evaluate(df_preprocess,Y,batch_size=100)"
   ]
  },
  {
   "cell_type": "markdown",
   "metadata": {},
   "source": [
    "## 모델 저장 및 이동"
   ]
  },
  {
   "cell_type": "code",
   "execution_count": 15,
   "metadata": {},
   "outputs": [],
   "source": [
    "# 전체 모델을 저장\n",
    "model.save('model.h5')"
   ]
  },
  {
   "cell_type": "code",
   "execution_count": 17,
   "metadata": {},
   "outputs": [],
   "source": [
    "!mv model.h5 ./model/model.dat"
   ]
  },
  {
   "cell_type": "markdown",
   "metadata": {},
   "source": [
    "## 평가 데이터 50만개 전처리 및 결과값 예측"
   ]
  },
  {
   "cell_type": "code",
   "execution_count": 18,
   "metadata": {},
   "outputs": [],
   "source": [
    "df_test_preprocess = preprocess.totalProcess(df_test)\n",
    "df_test['Sale'] = df_test['Sale'].astype(float)"
   ]
  },
  {
   "cell_type": "markdown",
   "metadata": {},
   "source": [
    "## 성능 평가 및 데이터 저장"
   ]
  },
  {
   "cell_type": "code",
   "execution_count": 19,
   "metadata": {},
   "outputs": [],
   "source": [
    "model_path = './model/model.dat'\n",
    "model = tf.keras.models.load_model(model_path,custom_objects={'l1_reg': l1_reg})"
   ]
  },
  {
   "cell_type": "code",
   "execution_count": 20,
   "metadata": {},
   "outputs": [
    {
     "output_type": "stream",
     "name": "stdout",
     "text": [
      "5000/5000 [==============================] - 3s 604us/step - loss: 0.3438 - auc: 0.6613\n"
     ]
    }
   ],
   "source": [
    "model.evaluate(df_test_preprocess,df_test['Sale'],batch_size=100)\n",
    "\n",
    "cvr_result =  model.predict(df_test_preprocess)\n",
    "filePath = 'test_result.txt'\n",
    "\n",
    "preprocess.result_to_txt_file(df_test['Sale'],cvr_result,filePath)"
   ]
  },
  {
   "cell_type": "code",
   "execution_count": 21,
   "metadata": {},
   "outputs": [
    {
     "output_type": "execute_result",
     "data": {
      "text/plain": [
       "array([[0.09978476]], dtype=float32)"
      ]
     },
     "metadata": {},
     "execution_count": 21
    }
   ],
   "source": [
    "model.predict(df_preprocess[:1])"
   ]
  }
 ],
 "metadata": {
  "kernelspec": {
   "name": "python3",
   "display_name": "Python 3.7.6 64-bit",
   "metadata": {
    "interpreter": {
     "hash": "e534e48711db4d1e1c48977d0d14ff85b1f16d41bcc4fdfd88268a329b3c9d66"
    }
   }
  },
  "language_info": {
   "codemirror_mode": {
    "name": "ipython",
    "version": 3
   },
   "file_extension": ".py",
   "mimetype": "text/x-python",
   "name": "python",
   "nbconvert_exporter": "python",
   "pygments_lexer": "ipython3",
   "version": "3.7.6-final"
  }
 },
 "nbformat": 4,
 "nbformat_minor": 2
}